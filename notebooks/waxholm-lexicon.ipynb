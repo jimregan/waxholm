{
 "cells": [
  {
   "cell_type": "code",
   "execution_count": 2,
   "metadata": {},
   "outputs": [],
   "source": [
    "import json\n",
    "\n",
    "with open(\"/tmp/waxholm_raw_lexicon.json\") as lexjson:\n",
    "    data = json.load(lexjson)"
   ]
  },
  {
   "cell_type": "code",
   "execution_count": 4,
   "metadata": {},
   "outputs": [],
   "source": [
    "def simplify_stops(text):\n",
    "    text = text.replace(\"Kk\", \"K\")\n",
    "    text = text.replace(\"Gg\", \"G\")\n",
    "    text = text.replace(\"Dd\", \"D\")\n",
    "    text = text.replace(\"Tt\", \"T\")\n",
    "    text = text.replace(\"Bb\", \"B\")\n",
    "    text = text.replace(\"Pp\", \"P\")\n",
    "    text = text.replace(\"k\", \"K\")\n",
    "    text = text.replace(\"g\", \"G\")\n",
    "    text = text.replace(\"d\", \"D\")\n",
    "    text = text.replace(\"t\", \"T\")\n",
    "    text = text.replace(\"b\", \"B\")\n",
    "    text = text.replace(\"p\", \"P\")\n",
    "    return text\n"
   ]
  },
  {
   "cell_type": "code",
   "execution_count": 7,
   "metadata": {},
   "outputs": [],
   "source": [
    "simple_matched_words = {}\n",
    "simple_matched_sentences = []\n",
    "rest = []\n",
    "for item in data:\n",
    "    if item[\"phoneme\"] == simplify_stops(item[\"labels\"]):\n",
    "        text_parts = item[\"text\"].split(\" \")\n",
    "        phone_parts = item[\"phoneme\"].split(\" \")\n",
    "        if len(text_parts) == 1 and len(phone_parts) == 1:\n",
    "            if item[\"text\"] not in simple_matched_words:\n",
    "                simple_matched_words[item[\"text\"]] = set()\n",
    "            simple_matched_words[item[\"text\"]].add(item[\"phoneme\"])\n",
    "        else:\n",
    "            simple_matched_sentences.append(item)\n",
    "    else:\n",
    "        rest.append(item)"
   ]
  },
  {
   "cell_type": "code",
   "execution_count": 10,
   "metadata": {},
   "outputs": [
    {
     "data": {
      "text/plain": [
       "{'slut': {\"SL'U:T\"},\n",
       " 'tack': {\"T'AK\"},\n",
       " 'idag': {\"ID'A:G\"},\n",
       " 'ikväll': {\"IKV'ÄL\"},\n",
       " 'härifrån': {\"H'Ä3RIFRÅN\"},\n",
       " 'hej': {\"H'EJ\"},\n",
       " 'hotell': {\"HOT'EL\"},\n",
       " 'tisdag': {\"T'I:SDA\"},\n",
       " 'fredag': {\"FR'E:DA\"},\n",
       " 'onsdag': {\"'ONSDA\"},\n",
       " 'ingenting': {\"INGENT'ING\"},\n",
       " 'söndag': {\"S'ÖNDA\"},\n",
       " 'lördag': {\"L'Ö32DA\"},\n",
       " 'måndag': {\"M'ÅNDA\"},\n",
       " '5': {\"F'EM\"}}"
      ]
     },
     "execution_count": 10,
     "metadata": {},
     "output_type": "execute_result"
    }
   ],
   "source": [
    "simple_matched_words"
   ]
  },
  {
   "cell_type": "code",
   "execution_count": 14,
   "metadata": {},
   "outputs": [],
   "source": [
    "not_as_simple = []\n",
    "for item in simple_matched_sentences:\n",
    "    text_parts = item[\"text\"].split(\" \")\n",
    "    phone_parts = item[\"phoneme\"].split(\" \")\n",
    "    if len(text_parts) == len(phone_parts):\n",
    "        for i in range(0, len(text_parts)):\n",
    "            if text_parts[i] not in simple_matched_words:\n",
    "                simple_matched_words[text_parts[i]] = set()\n",
    "            simple_matched_words[text_parts[i]].add(phone_parts[i])\n",
    "    else:\n",
    "        not_as_simple.append(item)"
   ]
  },
  {
   "cell_type": "code",
   "execution_count": 18,
   "metadata": {},
   "outputs": [
    {
     "data": {
      "text/plain": [
       "{'slut': {\"SL'U:T\"},\n",
       " 'tack': {\"T'AK\"},\n",
       " 'idag': {\"ID'A:G\"},\n",
       " 'ikväll': {\"IKV'ÄL\"},\n",
       " 'härifrån': {\"H'Ä3RIFRÅN\"},\n",
       " 'hej': {\"H'EJ\"},\n",
       " 'hotell': {\"HOT'EL\"},\n",
       " 'tisdag': {\"T'I:SDA\"},\n",
       " 'fredag': {\"FR'E:DA\"},\n",
       " 'onsdag': {\"'ONSDA\"},\n",
       " 'ingenting': {\"INGENT'ING\"},\n",
       " 'söndag': {\"S'ÖNDA\"},\n",
       " 'lördag': {\"L'Ö32DA\"},\n",
       " 'måndag': {\"M'ÅNDA\"},\n",
       " '5': {\"F'EM\"},\n",
       " 'kväll': {\"KV'ÄL\"},\n",
       " 'stan': {\"ST'A:N\"}}"
      ]
     },
     "execution_count": 18,
     "metadata": {},
     "output_type": "execute_result"
    }
   ],
   "source": [
    "simple_matched_words"
   ]
  },
  {
   "cell_type": "code",
   "execution_count": 20,
   "metadata": {},
   "outputs": [
    {
     "data": {
      "text/plain": [
       "[]"
      ]
     },
     "execution_count": 20,
     "metadata": {},
     "output_type": "execute_result"
    }
   ],
   "source": [
    "not_as_simple"
   ]
  },
  {
   "cell_type": "code",
   "execution_count": null,
   "metadata": {},
   "outputs": [],
   "source": []
  }
 ],
 "metadata": {
  "kernelspec": {
   "display_name": "hf",
   "language": "python",
   "name": "python3"
  },
  "language_info": {
   "codemirror_mode": {
    "name": "ipython",
    "version": 3
   },
   "file_extension": ".py",
   "mimetype": "text/x-python",
   "name": "python",
   "nbconvert_exporter": "python",
   "pygments_lexer": "ipython3",
   "version": "3.9.15"
  },
  "orig_nbformat": 4
 },
 "nbformat": 4,
 "nbformat_minor": 2
}
